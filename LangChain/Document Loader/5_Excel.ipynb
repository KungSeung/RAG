{
 "cells": [
  {
   "cell_type": "markdown",
   "id": "24d01f5e",
   "metadata": {},
   "source": [
    "Excel"
   ]
  },
  {
   "cell_type": "code",
   "execution_count": null,
   "id": "5987edf1",
   "metadata": {},
   "outputs": [],
   "source": [
    "from langchain_community.document_loaders import UnstructuredExcelLoader\n",
    "\n",
    "loader = UnstructuredExcelLoader('./titanic.xlsx', mode='elements')\n",
    "docs = loader.load()\n",
    "print(len(docs))\n",
    "\n",
    "# metadata의 text_as_html에는 각 행의 데이터를 HTML 형식으로 저장\n",
    "print(docs[0].page_content[:200])"
   ]
  },
  {
   "cell_type": "markdown",
   "id": "ae422932",
   "metadata": {},
   "source": [
    "DataFrameLoader"
   ]
  },
  {
   "cell_type": "code",
   "execution_count": null,
   "id": "813f2fcd",
   "metadata": {},
   "outputs": [],
   "source": [
    "import pandas as pd\n",
    "\n",
    "df = pd.read_excel('./titanic.xlsx')\n",
    "\n",
    "from langchain_community.document_loaders import DataFrameLoader\n",
    "\n",
    "loader = DataFrameLoader(df, page_content_column=\"Name\")\n",
    "\n",
    "docs = loader.load()\n",
    "\n",
    "print(docs[0].page_content)\n",
    "\n",
    "print(docs[0].metadata)"
   ]
  }
 ],
 "metadata": {
  "kernelspec": {
   "display_name": "Python 3",
   "language": "python",
   "name": "python3"
  },
  "language_info": {
   "codemirror_mode": {
    "name": "ipython",
    "version": 3
   },
   "file_extension": ".py",
   "mimetype": "text/x-python",
   "name": "python",
   "nbconvert_exporter": "python",
   "pygments_lexer": "ipython3",
   "version": "3.11.5"
  }
 },
 "nbformat": 4,
 "nbformat_minor": 5
}
