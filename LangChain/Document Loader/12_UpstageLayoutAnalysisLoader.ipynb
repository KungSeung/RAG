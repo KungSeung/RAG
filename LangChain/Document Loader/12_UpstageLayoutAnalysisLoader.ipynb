{
 "cells": [
  {
   "cell_type": "markdown",
   "id": "d43af2c4",
   "metadata": {},
   "source": [
    "UpstageLayoutAnalysisLoader"
   ]
  },
  {
   "cell_type": "code",
   "execution_count": null,
   "id": "1dad4870",
   "metadata": {},
   "outputs": [],
   "source": [
    "# Upstage AI에서 제공하는 문서 분석 도구\n",
    "# LangChain 프레임워크와 통합되어 사용할 수 있는 문서 로더\n",
    "\n",
    "# 주요 특징 : PDF, 이미지 등 다양한 형식의 문서에서 레이아웃 분석 수행\n",
    "# 문서의 구조적 요소(제목, 단락, 표, 이미지 등)를 자동으로 인식 및 추출 - OCR 기능 지원\n",
    "\n",
    "# 단순한 텍스트 추출을 넘어 문서의 구조를 이해하고 요소 간 관계를 파악하여 정확한 문서 분석을 가능하게 합니다"
   ]
  },
  {
   "cell_type": "markdown",
   "id": "9c247abf",
   "metadata": {},
   "source": [
    "환경 설정"
   ]
  },
  {
   "cell_type": "code",
   "execution_count": 2,
   "id": "c17fe8c5",
   "metadata": {},
   "outputs": [
    {
     "data": {
      "text/plain": [
       "False"
      ]
     },
     "execution_count": 2,
     "metadata": {},
     "output_type": "execute_result"
    }
   ],
   "source": [
    "# API KEY를 환경변수로 관리하기 위한 설정 파일\n",
    "from dotenv import load_dotenv\n",
    "\n",
    "# API KEY 정보로드\n",
    "load_dotenv()"
   ]
  },
  {
   "cell_type": "code",
   "execution_count": null,
   "id": "72e51b8f",
   "metadata": {},
   "outputs": [],
   "source": [
    "# LangSmith 추적을 설정합니다. https://smith.langchain.com\n",
    "\n",
    "from langchain_teddynote import logging\n",
    "\n",
    "logging.langsmith(\"CH07-DocumentLoader\")"
   ]
  },
  {
   "cell_type": "markdown",
   "id": "d1110cf4",
   "metadata": {},
   "source": [
    "UpstageLayoutAnalysisLoader"
   ]
  },
  {
   "cell_type": "code",
   "execution_count": null,
   "id": "3c7ea183",
   "metadata": {},
   "outputs": [],
   "source": [
    "# 주요 파라미터\n",
    "\n",
    "# file_path : 분석할 문서 경로\n",
    "# output_type : 출력 형식 [(기본값)'html', 'text']\n",
    "# split : 문서 분할 방식 ['none', 'element', 'page']\n",
    "# use_ocr = True : OCR 사용\n",
    "# exclude = ['header', 'footer'] : 헤더, 푸터 제외\n",
    "\n",
    "from langchain_upstage import UpstageLayoutAnalysisLoader\n",
    "\n",
    "file_path = \"./SPRI_AI_Brief_2023년12월호_F.pdf\"\n",
    "\n",
    "loader = UpstageLayoutAnalysisLoader(\n",
    "    file_path,\n",
    "    output_type=\"text\",\n",
    "    split=\"page\",\n",
    "    use_ocr=True,\n",
    "    exclude=[\"header\", \"footer\"],\n",
    ")\n",
    "\n",
    "docs = loader.load()\n",
    "\n",
    "for doc in docs[:3]:\n",
    "    print(doc)\n"
   ]
  }
 ],
 "metadata": {
  "kernelspec": {
   "display_name": "Python 3",
   "language": "python",
   "name": "python3"
  },
  "language_info": {
   "codemirror_mode": {
    "name": "ipython",
    "version": 3
   },
   "file_extension": ".py",
   "mimetype": "text/x-python",
   "name": "python",
   "nbconvert_exporter": "python",
   "pygments_lexer": "ipython3",
   "version": "3.11.5"
  }
 },
 "nbformat": 4,
 "nbformat_minor": 5
}
