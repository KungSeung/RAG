{
 "cells": [
  {
   "cell_type": "markdown",
   "id": "8fb3000f",
   "metadata": {},
   "source": [
    "Arxiv"
   ]
  },
  {
   "cell_type": "code",
   "execution_count": null,
   "id": "5e7b2a11",
   "metadata": {},
   "outputs": [],
   "source": [
    "# Arxiv는 물리학, 수학, 컴퓨터 과학, 정량 생물학, 정량 금융, 통계, 전기공학 \n",
    "# 및 시스템 과학, 경제학 분야의 200만 편의 학술 논문을 위한 오픈 액세스 아카이브\n",
    "\n",
    "# Arxiv 문서 로더에 접근하려면 arxiv, PyMuPDF 및 langchain-community 통합 패키지를 설치해야함\n",
    "\n",
    "from langchain_community.document_loaders import ArxivLoader\n",
    "\n",
    "# Query에 검색하고자 하는 논문의 주제를 입력합니다.\n",
    "loader = ArxivLoader(\n",
    "    query = \"Chain of thought\",\n",
    "    load_max_docs = 2,  # 최대 문서 수\n",
    "    load_all_available_meta = True  # 메타데이터 전체 로드 여부\n",
    ")"
   ]
  },
  {
   "cell_type": "code",
   "execution_count": null,
   "id": "a7e4d787",
   "metadata": {},
   "outputs": [],
   "source": [
    "docs = loader.load()\n",
    "docs"
   ]
  },
  {
   "cell_type": "code",
   "execution_count": null,
   "id": "da8e7885",
   "metadata": {},
   "outputs": [],
   "source": [
    "docs[0].metadata"
   ]
  },
  {
   "cell_type": "code",
   "execution_count": null,
   "id": "4aef7ce5",
   "metadata": {},
   "outputs": [],
   "source": [
    "loader = ArxivLoader(\n",
    "    query = \"ChatGPT\",\n",
    "    load_max_docs = 2,\n",
    "    load_all_available_meta = False\n",
    ")\n",
    "\n",
    "docs = loader.load()\n",
    "\n",
    "docs[0].metadata"
   ]
  },
  {
   "cell_type": "markdown",
   "id": "bd2e7cf8",
   "metadata": {},
   "source": [
    "요약(summaries)"
   ]
  },
  {
   "cell_type": "code",
   "execution_count": null,
   "id": "fd197f48",
   "metadata": {},
   "outputs": [],
   "source": [
    "# 논문의 전체 내용이 아닌 요약본 출력을 원한다면\n",
    "# get_summaries_as_docs() 함수 호출을 하면 된다\n",
    "\n",
    "docs = loader.get_summaries_as_docs()\n",
    "\n",
    "print(docs[0].page_content)"
   ]
  },
  {
   "cell_type": "markdown",
   "id": "5a6dbef2",
   "metadata": {},
   "source": [
    "lazy_load()"
   ]
  },
  {
   "cell_type": "code",
   "execution_count": null,
   "id": "bdc8f231",
   "metadata": {},
   "outputs": [],
   "source": [
    "# 문서를 대량으로 로드할 때 로드된 문서의 부분 집합에 대해 하류 작업을 수행할 수 있다면\n",
    "# 메모리 사용량을 최소화하기 위해 문서를 한 번에 하나씩 지연 로드할 수 있다\n",
    "\n",
    "docs = []\n",
    "\n",
    "for doc in loader.lazy_load():\n",
    "    docs.append(doc)\n",
    "\n",
    "docs"
   ]
  }
 ],
 "metadata": {
  "kernelspec": {
   "display_name": "Python 3",
   "language": "python",
   "name": "python3"
  },
  "language_info": {
   "name": "python",
   "version": "3.11.5"
  }
 },
 "nbformat": 4,
 "nbformat_minor": 5
}
