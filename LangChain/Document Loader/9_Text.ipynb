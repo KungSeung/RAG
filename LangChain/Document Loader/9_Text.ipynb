{
 "cells": [
  {
   "cell_type": "markdown",
   "id": "f55849ca",
   "metadata": {},
   "source": [
    "텍스트"
   ]
  },
  {
   "cell_type": "code",
   "execution_count": null,
   "id": "2cf499ee",
   "metadata": {},
   "outputs": [],
   "source": [
    "from langchain_community.document_loaders import TextLoader\n",
    "\n",
    "loader = TextLoader(\"./test.txt\")\n",
    "\n",
    "docs = loader.load()\n",
    "print(f\"문서의 수: {len(docs)}\\n\")\n",
    "print(\"[메타데이터]\\n\")\n",
    "print(docs[0].metadata)\n",
    "print(\"\\n========= [앞부분] 미리보기 =========\\n\")\n",
    "print(docs[0].page_content[:500])"
   ]
  },
  {
   "cell_type": "markdown",
   "id": "c3becbc1",
   "metadata": {},
   "source": [
    "TextLoader를 통한 파일 인코딩 자동 감지"
   ]
  },
  {
   "cell_type": "code",
   "execution_count": null,
   "id": "a6c57261",
   "metadata": {},
   "outputs": [],
   "source": [
    "# TextLoader 클래스를 사용하여 디렉토리에서 임의의 파일 목록을 대량으로 로드\n",
    "\n",
    "# silent_errors : 로드할 수 없는 파일을 건너뛰고 로드 프로세스 계속할 수 있다\n",
    "# autodetect_encoding : 자동 감지_인코딩을 전달하여 실패하기 전에 파일 인코딩을 자동으로 감지하도록 요청 가능\n",
    "\n",
    "from langchain_community.document_loaders import DirectoryLoader\n",
    "\n",
    "path = \"./\"\n",
    "\n",
    "text_loader_kwargs = {\"autodetect_encoding\" : True}\n",
    "\n",
    "loader = DirectoryLoader(\n",
    "    path,\n",
    "    glob = \"/*.txt\"\n",
    "    loader_cls = TextLoader,\n",
    "    silent_errors = True,\n",
    "    loader_kwargs = text_loader_kwargs,\n",
    ")\n",
    "\n",
    "docs = loader.load()"
   ]
  },
  {
   "cell_type": "code",
   "execution_count": null,
   "id": "324e85f8",
   "metadata": {},
   "outputs": [],
   "source": [
    "doc_sources = [doc.metadata[\"source\"] for doc in docs]\n",
    "doc_sources"
   ]
  },
  {
   "cell_type": "code",
   "execution_count": null,
   "id": "c1f7513e",
   "metadata": {},
   "outputs": [],
   "source": [
    "print(\"[메타데이터]\\n\")\n",
    "print(docs[2].metadata)\n",
    "print(\"\\n========= [앞부분] 미리보기 =========\\n\")\n",
    "print(docs[2].page_content[:500])"
   ]
  }
 ],
 "metadata": {
  "kernelspec": {
   "display_name": "Python 3",
   "language": "python",
   "name": "python3"
  },
  "language_info": {
   "name": "python",
   "version": "3.11.5"
  }
 },
 "nbformat": 4,
 "nbformat_minor": 5
}
