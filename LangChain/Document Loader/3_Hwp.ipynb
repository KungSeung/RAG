{
 "cells": [
  {
   "cell_type": "markdown",
   "id": "82f70b81",
   "metadata": {},
   "source": [
    "HWP"
   ]
  },
  {
   "cell_type": "code",
   "execution_count": null,
   "id": "34fda7ef",
   "metadata": {},
   "outputs": [],
   "source": [
    "# 아직 integration이 되지 않아 직접 구현한 HWPLoader를 사용해야 함\n",
    "# 코드는 아래와 같은 방식으로 작성 가능\n",
    "from langchain_teddynote.document_loaders import HWPLoader\n",
    "\n",
    "loader = HWPLoader('./~.hwp')\n",
    "docs = loader.load()"
   ]
  }
 ],
 "metadata": {
  "kernelspec": {
   "display_name": "Python 3",
   "language": "python",
   "name": "python3"
  },
  "language_info": {
   "name": "python",
   "version": "3.11.5"
  }
 },
 "nbformat": 4,
 "nbformat_minor": 5
}
