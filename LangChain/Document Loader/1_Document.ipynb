{
 "cells": [
  {
   "cell_type": "markdown",
   "id": "a908308c",
   "metadata": {},
   "source": [
    "Document"
   ]
  },
  {
   "cell_type": "code",
   "execution_count": null,
   "id": "0de252d5",
   "metadata": {},
   "outputs": [
    {
     "data": {
      "text/plain": [
       "{'id': None,\n",
       " 'metadata': {},\n",
       " 'page_content': '안녕하세요? 이건 랭체인의 도큐먼트 입니다',\n",
       " 'type': 'Document'}"
      ]
     },
     "execution_count": 1,
     "metadata": {},
     "output_type": "execute_result"
    }
   ],
   "source": [
    "from langchain_core.documents import Document\n",
    "\n",
    "document = Document('안녕하세요? 이건 랭체인의 도큐먼트 입니다')\n",
    "document.__dict__\n",
    "# page_content : 문서의 내용을 나타내는 문열\n",
    "# metadata : 문서의 메타데이터를 나타내는 딕셔너리"
   ]
  },
  {
   "cell_type": "code",
   "execution_count": 2,
   "id": "47e3d0a8",
   "metadata": {},
   "outputs": [
    {
     "data": {
      "text/plain": [
       "{'source': 'TeddyNote', 'page': 1, 'author': 'Teddy'}"
      ]
     },
     "execution_count": 2,
     "metadata": {},
     "output_type": "execute_result"
    }
   ],
   "source": [
    "# 메타데이터 추가\n",
    "document.metadata['source'] = \"TeddyNote\"\n",
    "document.metadata['page'] = 1\n",
    "document.metadata['author'] = \"Teddy\"\n",
    "\n",
    "document.metadata"
   ]
  },
  {
   "cell_type": "markdown",
   "id": "cccfeab5",
   "metadata": {},
   "source": [
    "Document Loader"
   ]
  },
  {
   "cell_type": "code",
   "execution_count": null,
   "id": "bf908cc1",
   "metadata": {},
   "outputs": [
    {
     "data": {
      "text/plain": [
       "16"
      ]
     },
     "execution_count": 5,
     "metadata": {},
     "output_type": "execute_result"
    }
   ],
   "source": [
    "# PyPDFLoader : PDF 파일을 로드하는 로더\n",
    "# CSVLoader : CSV 파일을 로드하는 로더\n",
    "# UnstructuredHTMLLoader : HTML 파일을 로드하는 로더\n",
    "# JSONLoader : JSON 파일을 로드하는 로더\n",
    "# TextLoader : 텍스트 파일을 로드하는 로더\n",
    "# DirectoryLoader : 디렉토리를 로드하는 로더\n",
    "\n",
    "from langchain_community.document_loaders import PyPDFLoader\n",
    "File_Path = './test.pdf'\n",
    "loader = PyPDFLoader(File_Path)"
   ]
  },
  {
   "cell_type": "markdown",
   "id": "fe386077",
   "metadata": {},
   "source": [
    "load()"
   ]
  },
  {
   "cell_type": "code",
   "execution_count": null,
   "id": "7b33e1eb",
   "metadata": {},
   "outputs": [],
   "source": [
    "# 문서를 로드하여 반환\n",
    "# 반환된 결과는 List 형태\n",
    "\n",
    "docs = loader.load()\n",
    "len(docs)   # 로드된 문서의 수\n",
    "docs[0]"
   ]
  },
  {
   "cell_type": "markdown",
   "id": "c97a31fc",
   "metadata": {},
   "source": [
    "load_and_split()"
   ]
  },
  {
   "cell_type": "code",
   "execution_count": 6,
   "id": "9ae9fa54",
   "metadata": {},
   "outputs": [
    {
     "data": {
      "text/plain": [
       "Document(metadata={'source': './test.pdf', 'page': 0}, page_content='50회  기출문제\\n1👓\\n5 0회  기출문제\\n1과목\\n■ 문제  1.  다음  중  아래에서  엔터티  내에  주식별자를  도출하는  기준으로  옳지  않은  것은 ?\\n1) 해당  업무에서  자주  이용되는  속성을  주식별자로  지정한다 .\\n2) 지정된  주식별자의  값은  자주  변하지  않는  것이어야  한다 .\\n3) 명칭 ,  내역  등과  같이  이름으로  기술되는  것들을  주식별자로  지정한다 .\\n4) 복합으로  주식별자를  구성할  경우  너무  많은  속성을  포함하지  않도록  한다 .\\n■ 문제  2.  관계  표기법으로  옳지  않은  것은 ?\\n1) 관계명\\n2) 관계차수\\n3) 관계선택사양\\n4) 관계분류\\n■ 문제  3 .  하나의  엔터티에  구성되어  있는  여러  개의  속성  중  엔터티를  대표할  수  있는  속성은 ?\\n4) 식별자\\n■ 문제  4 .  개념  엔터티  적합한  것 ? 정답 : 조직  보험상품\\n■ 문제  5 .  발생시점  중심엔터티  찾기  정답 : 프로젝트\\n■ 문제  6 .  모델링  유의성  틀린것  정답 :\\xa0프로젝트  데이터를  합친다는  선지\\n■ 문제  7 .  식별자가  정답인  문제  정답 : 4번  식별자\\n■ 문제  8 .  다음  중  스키마의  종류가  아닌  것은 ?')"
      ]
     },
     "execution_count": 6,
     "metadata": {},
     "output_type": "execute_result"
    }
   ],
   "source": [
    "# splitter를 사용하여 문서를 분할하고 반환\n",
    "# 반환된 결과는 List\n",
    "from langchain_text_splitters import CharacterTextSplitter\n",
    "\n",
    "# 문열 분할기 설정\n",
    "text_splitter = CharacterTextSplitter(chunk_size=200, chunk_overlap=0)\n",
    "# 문서 분할\n",
    "docs = loader.load_and_split(text_splitter=text_splitter)\n",
    "\n",
    "# 로드의 문서의 수 확인\n",
    "len(docs)\n",
    "# 첫번째 문서 확인\n",
    "docs[0]"
   ]
  },
  {
   "cell_type": "markdown",
   "id": "3540b08c",
   "metadata": {},
   "source": [
    "lazy_load()"
   ]
  },
  {
   "cell_type": "code",
   "execution_count": 7,
   "id": "ed3ccae0",
   "metadata": {},
   "outputs": [
    {
     "name": "stdout",
     "output_type": "stream",
     "text": [
      "{'source': './test.pdf', 'page': 0}\n",
      "{'source': './test.pdf', 'page': 1}\n",
      "{'source': './test.pdf', 'page': 2}\n",
      "{'source': './test.pdf', 'page': 3}\n",
      "{'source': './test.pdf', 'page': 4}\n",
      "{'source': './test.pdf', 'page': 5}\n",
      "{'source': './test.pdf', 'page': 6}\n",
      "{'source': './test.pdf', 'page': 7}\n",
      "{'source': './test.pdf', 'page': 8}\n",
      "{'source': './test.pdf', 'page': 9}\n",
      "{'source': './test.pdf', 'page': 10}\n",
      "{'source': './test.pdf', 'page': 11}\n",
      "{'source': './test.pdf', 'page': 12}\n",
      "{'source': './test.pdf', 'page': 13}\n",
      "{'source': './test.pdf', 'page': 14}\n",
      "{'source': './test.pdf', 'page': 15}\n"
     ]
    }
   ],
   "source": [
    "# generator 방식으로 문서를 로드\n",
    "for doc in loader.lazy_load():\n",
    "    print(doc.metadata)"
   ]
  },
  {
   "cell_type": "markdown",
   "id": "8160dcff",
   "metadata": {},
   "source": [
    "aload()"
   ]
  },
  {
   "cell_type": "code",
   "execution_count": 8,
   "id": "a34071d2",
   "metadata": {},
   "outputs": [
    {
     "data": {
      "text/plain": [
       "[Document(metadata={'source': './test.pdf', 'page': 0}, page_content='50회  기출문제\\n1👓\\n5 0회  기출문제\\n1과목\\n■ 문제  1.  다음  중  아래에서  엔터티  내에  주식별자를  도출하는  기준으로  옳지  않은  것은 ?\\n1) 해당  업무에서  자주  이용되는  속성을  주식별자로  지정한다 .\\n2) 지정된  주식별자의  값은  자주  변하지  않는  것이어야  한다 .\\n3) 명칭 ,  내역  등과  같이  이름으로  기술되는  것들을  주식별자로  지정한다 .\\n4) 복합으로  주식별자를  구성할  경우  너무  많은  속성을  포함하지  않도록  한다 .\\n■ 문제  2.  관계  표기법으로  옳지  않은  것은 ?\\n1) 관계명\\n2) 관계차수\\n3) 관계선택사양\\n4) 관계분류\\n■ 문제  3 .  하나의  엔터티에  구성되어  있는  여러  개의  속성  중  엔터티를  대표할  수  있는  속성은 ?\\n4) 식별자\\n■ 문제  4 .  개념  엔터티  적합한  것 ? 정답 : 조직  보험상품\\n■ 문제  5 .  발생시점  중심엔터티  찾기  정답 : 프로젝트\\n■ 문제  6 .  모델링  유의성  틀린것  정답 :\\xa0프로젝트  데이터를  합친다는  선지\\n■ 문제  7 .  식별자가  정답인  문제  정답 : 4번  식별자\\n■ 문제  8 .  다음  중  스키마의  종류가  아닌  것은 ?'),\n",
       " Document(metadata={'source': './test.pdf', 'page': 1}, page_content='50회  기출문제\\n21) 외부  스키마\\n2) 내부  스키마\\n3) 개념  스키마\\n4) 응용  스키마\\n■ 문제  9 .  정규화  N\\ue092N 처리  ~\\xa0 ?\\n1) 개괄  모델링\\n2) 개념  모델링\\n3) 논리  모델링\\n4) 물리  모델링\\n■ 단답형  1.\\xa0 다음  정의에  해당하는  개념 \\xa0- 속성범위  ~?\\n정답 : 도메인\\n2과목  (  객관식  3 5 문제  /  단답형  5 문제  )\\n■ 문제  10 .  학생의  평균학점이  3 . 0 인  학생을  올바르게  입력한  것은 ?\\nStudent ( 학과 , 학번 , 강좌 )\\nClass ( 강좌번호 , ~)\\nEnroll ( 학과 , 강좌번호 , 학점 )\\nSELECT s. 학번\\n  FROM student s, 수강  ~\\nGROUP BY 에  HAVING 절  같이  있는거랑\\nHAVING 절만  있는  보기\\n정답 :\\xa0GROUP BY \\ue09d HA VING 있는 \\xa0 선택지\\n■ 문제  11.  아래  테이블에  대한  [ 뷰  생성  스크립트 ] 를  실행한  후 ,  조회  SQL 의  실행결과로  맞는  것\\n은 ?\\xa0(노랭이  2 과목  104 번 )\\n[TBL]\\nC1     C2\\n---------\\nA      100'),\n",
       " Document(metadata={'source': './test.pdf', 'page': 2}, page_content=\"50회  기출문제\\n3B      200\\nB      100\\nB\\n       200\\n[뷰 생성 스크립트 ]\\nCREATE VIEW V_TBL\\nAS\\nSELECT * FROM TBL\\nWHERE C1 = 'B' OR C1 IS NULL\\n[조회 SQL]\\nSELECT SUM(C2) C2\\nFROM V_TBL\\nWHERE C2 >= 200 AND C1 = 'B'\\n1\\ue082 0\\n2\\ue082 200\\n3\\ue082 300\\n4\\ue082 400\\n해설 :\\n조회  SQL 실행시  V _ TBL 은  뷰  스크립트로  치환되어  수행된다 . 뷰  생성  스크립트에서  부여된  \\n조건과  조회  SQL 에서  부여된  조건  모두를  만족해야  한다 .\\n■ 문제  12.  다음  중  아래와  같은  데이터  상황에서  SQL 의  수행  결과로  가장  적절한  것은 ?\\xa0( 노랭이  \\n2과목  7 6 번 )\\n[TAB1]\\nC1     C2\\n----------\\nA       1\\nB       2\\nC       3\\nD       4\\nE       5\\n[TAB2]\\nC1     C2\"),\n",
       " Document(metadata={'source': './test.pdf', 'page': 3}, page_content='50회  기출문제\\n4----------\\nB       2\\nC       3\\nD       4\\n[SQL]\\nSELECT *\\n FROM TAB1 A LEFT OUTER JOIN TAB2 B\\n   ON (A.C1 = B.C1 AND B.C2 BETWEEN 1 AND 3)\\n1)                     2 )\\nC1   C2   C1   C2        C1   C2   C1   C2\\n-----------------        -----------------\\nA    1                    A    1\\nB    2    B    2          B    2    B    2\\nC    3    C    3          C    3    C    3\\nD    4    D    4          D    4\\nE    5                    E    5\\n3)                     4 )\\nC1   C2   C1   C2        C1   C2   C1   C2\\n-----------------        -----------------\\nA    1                    A    1\\nB    2    B    2          B    2    B    2\\nC    3    C    3          C    3    C    3\\n                          D    4    D    4\\n정답 : 2번\\n해설 :\\n아우터  조인에서  ON 절은  조인할  대상을  결정하며  기준  테이블 (T AB1)\\xa0 은  항상  모두  표시됨\\n■\\xa0문제  13 .\\nsubstr(STR, length(STR) - 3)\\nFROM 인라인뷰  ( 여기서  STR 이  abcdefg 라는  정보를  줌 )\\nsubstr(abcdefg, 7-3)\\n정답 : 2번  def g'),\n",
       " Document(metadata={'source': './test.pdf', 'page': 4}, page_content='50회  기출문제\\n5■ 문제  14 .  아래  SQL 의  수행결과로  올바른  것은 ?\\n[TAB1]\\nCOL1 VARCHAR2(30)\\nCOL2 NUMBER\\n[TAB1]\\nCOL1    COL2\\n------------\\nY        20\\nX        30\\nA        40\\nA        50\\n         10\\n         80\\n[SQL]\\nSELECT NVL(COUNT(*), 9999)\\n  FROM TAB1\\n WHERE 1=2;\\n1\\ue082 0\\n2\\ue082 9999\\n3\\ue082 1\\n4\\ue082 ERROR\\n■ 문제  15 .  빠짐없이  값  나오는거  둘중  해당하는거  고르는  문제\\n정답 : 클래스  튜터  둘다\\n■ 문제  16 .  17 ,  18 ,  19 ,  20 이런  선택  문제\\n■ 문제  17 .  계층형  쿼리  문제\\nstart with = 11 역방향\\n정답 : st ar t wit h 카테고리번호  = 11 connect b y 카테고리번호  = pr ior 상위카테고리번호'),\n",
       " Document(metadata={'source': './test.pdf', 'page': 5}, page_content=\"50회  기출문제\\n6■ 문제  18 .  R ollup,  Cube,  Gr ouping set s 고르는  문제\\n1\\ue082 R ollup()\\n2\\ue082 Gr ouping set s()\\n3\\ue082\\n4\\ue082 Cube()\\n해설 :\\n롤업 ,그룹핑 , 큐브  묻는  문제가  표에  (a,b)->(a) -> (b) - () 순으로  되어있어서  cube\\n■ 문제  19 .  Natur al join 특징이  아닌  것은 ?\\n1) 두  테이블간  동일한  이름을  가진  컬럼으로  조인이  이루어진다 .\\n2) 등가조인 (Equi Join),  비등가조인 (Non-Equi Join) 이  가능하다 .\\n3\\ue082 USING 절을  사용할  수  없다 .\\n4\\ue082 ON 절을  사용할수  없다 .\\n■ 문제  20 .\\xa0테이블에서  이름별로  그룹핑한다음  ID 최솟값이  아닌거  삭제하는  문제\\nID NAME\\n----------\\n100 KIM\\n200 PARK\\n300 KANG\\n400 KIM\\n500 KANG\\n[SQL]\\nDELETE NOT IN () 해서  LEE 뭐  이런  이름으로  MIN MAX\\n정답 :\\xa0not in 이  delet e 이므로  NO T IN MIN\\ue081ID\\ue082 GROUP BY NAME\\n■ 문제  21.\\xa0Al t er 사용해서  칼럼 ? 형식  바꾸는  sql 문  고르는  문제\\n정답 :\\xa0MODIFY\\nAL TER T ABLE TEAM MODIFY 컬럼명  V ARCHAR2\\ue08110\\ue082 DEF A UL T '2023\\ue08809\\ue08809' NO T  \\nNULL;\"),\n",
       " Document(metadata={'source': './test.pdf', 'page': 6}, page_content='50회  기출문제\\n7■ 문제  22.  아래의  SQL 과  동일한  결과를  출력하는  ANSI 표준  SQL 로  적절한  것은 ? (Or acle  \\nDBMS에  해당 )\\nSELECT A.KEY_A, B.KEY_B, A.COL, B.COL\\n  FROM A22 A, B22 B\\n WHERE A.KEY_A = B.KEY_B(+)\\nUNION ALL\\nSELECT A.KEY_A, B.KEY_B, A.COL, B.COL\\n  FROM A22 A, B22 B\\n WHERE B.KEY_B = A.KEY_A(+);\\n1)\\nSELECT A.KEY_A, B.KEY_B, A.COL, B.COL\\nFROM A22 A FULL OUTER JOIN B22 B\\nON (A.KEY_A = B.KEY_B);\\n2)\\nSELECT A.KEY_A, B.KEY_B, A.COL, B.COL\\nFROM A22 A LEFT OUTER JOIN B22 B\\nON (A.KEY_A = B.KEY_B)\\nUNION ALL\\nSELECT A.KEY_A, B.KEY_B, A.COL, B.COL\\nFROM A22 A RIGHT OUTER JOIN B22 B\\nON (B.KEY_B = A.KEY_A);\\n3)\\nSELECT A.KEY_A, B.KEY_B, A.COL, B.COL\\nFROM A22 A LEFT OUTER JOIN B22 B\\nON (A.KEY_A = B.KEY_B)\\nUNION\\nSELECT A.KEY_A, B.KEY_B, A.COL, B.COL\\nFROM A22 A RIGHT OUTER JOIN B22 B\\nON (A.KEY_A = B.KEY_B);\\n4)\\nSELECT A.KEY_A, B.KEY_B, A.COL, B.COL\\nFROM A22 A CROSS JOIN B22 B;'),\n",
       " Document(metadata={'source': './test.pdf', 'page': 7}, page_content='50회  기출문제\\n8정답 : 2번\\n오라클  DBMS 형식을  SQL Ser v er 로  바꾸는  문제\\n■ 문제  23 .  데이터  제어어 (DCL) 및  트랜잭션  제어어 (T CL) 에  해당하지  않는  것은 ?\\n1\\ue082 GRANT\\n2\\ue082 ROLLBA CK\\n3\\ue082 REV OKE\\n4\\ue082 AL TER\\n■ \\xa0문제  2 4 .\\xa0 SQL집합  연산자에서  교집합에  해당하는  것은 ?\\n1\\ue082 UNION ALL\\n2\\ue082 EX CEPT\\n3\\ue082 INTERSECT\\n4\\ue082 UNION\\n■ 문제  25 .  다음  중  DELETE 와  TRUNC A TE,  DROP 명령어에  대해  비교한  설명으로  가장  부적\\n절한  것을  고르시오 .\\xa0 (노랭이  1 과목  26 번 )\\n1\\ue082 DROP 은  테이블  정의  및  모든  데이터를  삭제한다 .\\n2\\ue082 TRUNC A TE 명령어는  테이블을  초기상태로  만든다 .\\n3\\ue082 TRUNC A TE 명령어는  UNDO 를  위한  데이터를  생성하지  않기  떄문에  동일  데이터량  삭제시  \\nDELETE 보다  빠르다 .\\n4\\ue082 DROP 은  Aut o Commit 이  되고 ,  DELETE 와  TRUNC A TE 는  사용자  Commit 으로  수행된다 .\\n해설 :\\nTRUNC A TE 는  Aut o Commit 이다 .\\nDROP TRUNC A TE DELETE\\nDDL DDL DML\\nR ollb ack 불가능 R ollb ack 불가능 Commit 이전  R ollb ack 가능\\nAut o Commit Aut o Commit 사용자  Commit\\n테이블이  사용했던\\nSt orage 를  모두  R ele ase테이블이  사용했던  St orage 중  최초  테\\n이블  생성시  할당된  St orage 만  남기고\\nR ele ase데이터를  모두  Delet e 해도  사용했\\n던  St orage 는  R ele ase 되지  않음'),\n",
       " Document(metadata={'source': './test.pdf', 'page': 8}, page_content='50회  기출문제\\n9DROP TRUNC A TE DELETE\\n테이블의  정의  자체를  완전\\n히  삭제함테이블을  최초  생성된  초기상태로  만듬데이터만  삭제\\n■ 문제  26 .  테이블  유형  중  적절한것을  고르시오 .\\n1\\ue082 2023_ TBL\\n2\\ue082 2023\\ue088 TBL\\n3\\ue082 TBL \\ue088 2023\\n4\\ue082 TBL_2023#\\n■ \\xa0문제  27 .  부서별  최고  연봉\\n■ 문제  28 .  아래  SQL 수행  결과는 ?\\n[SQL]\\n4000은 12000/3 이고\\n4 는 count(*) 라  null 값  포함  세는거였고\\n3은 count(?) 라  null 제외  3 개\\n정답 : 4000 ,  4 ,  3\\n■ 문제  29 .  ???\\n■ 문제  30 .  LA G,  LEAD 결과값  다른것  찾는  문제 .\\n■ 문제  31.  계층형에  대한  내용  중  잘못된  것은 ? \\n1번 .  Le af 의  레벨은  항상  1 이다 .\\n해설 :\\n계층구조  쿼리에서  로우의  레벨 (Le af) 여부를  최하위  레벨이면  1, 아니면  0 을  반환함\\n구분 설명\\nST ART WITH 데이터  전개가 \\xa0 시작될  데이터를  지정함\\nCONNECT BY 자식  데이터를  지정함'),\n",
       " Document(metadata={'source': './test.pdf', 'page': 9}, page_content='50회  기출문제\\n10구분 설명\\nPRIOR\\ue088 CONNECT BY 절에  사용되며  PRIOR 에  지정된  컬럼이  맞은편  컬럼을  찾아감 -\\nCONNECT BY PRIOR 자식  = 부모  : 부모  -> 자식  순방향 - CONNECT BY PRIOR\\n부모  = 자식  : 자식  -> 부모  역방향\\nNOCY CLE데이터를  전개하는  도중  동일한  데이터가  다시  나타나면  이것을  CY CLE 이  발생했다고\\n함 CY CLE 이  발생한  이후  데이터를  전개하면  런타임  오류가  발생함 .NOCY CLE 을  추가\\n하면 \\xa0CY CLE 이  발생한  이후의  데이터는  전개되지  않아 \\xa0 런타임  오류를  방지할수  있음 .\\nORDER\\nSIBLINGS BY동일한  LEVEL 을  가진 \\xa0 노드  ( 형제  노드  ) 사이에서  정렬을  수행함\\nWHERE 모든  데이터  전개를  수행한  후  지정된  조건을  만족하는  데이터만을  추출\\n가상  컬럼  구분 설명\\nLEVEL전개  과정에서 \\xa0 루트  데이터면  1, 그  하위  데이터면  2\\xa0 로루트에서  리프로  내려\\n갈  때  1씩  증가함 .\\nCONNECT _ BY_ ISLEAF 전개  과정에서  해당  데이터가 \\xa0 리프  데이터면  1, 그렇지  않으면  0\\nCONNECT _ BY_ ISCY CLE전개  과정에서  해당  데이터가  조상으로서  존재하면  ( 자식이  존재하면 ) 1, 그렇\\n지  않으면  0CY CLE 기능을  사용했을때만  사용할수  있음 .\\n■ 문제  32.어떤  테이블의  특정  컬럼의  속성 (v ar char(8)) 을  문제의  3-4 줄의  조건글을  보고  보기\\n에서  알맞은  sql 문을  선택하는  문제\\n■ 문제  33 .  해당  SQL 문을  수행했을  때  출력되는  것을  고르시오 .\\n[SQL]\\n시간 구하는  문제  1/12/(60/30)\\n정답 : + 1 시간  ( ~ 01:00:00 3 번  선택지 )\\n해설 :\\n1/2 4/60 1 분으로  했을때  -> 1/12/60 으로  하면  값이  2 배  커진거니까  2 분\\n1/12/2 일때  30 배  커진거니까  60 분 \\xa0->\\xa0 즉  1 시간\\n1/2 4/60 이  1 분  인거만  외우고  계산하면  됨 .\\n■ 문제  34 .  아래  실행결과가  다른  보기를  고르시오 .'),\n",
       " Document(metadata={'source': './test.pdf', 'page': 10}, page_content='50회  기출문제\\n11[SQL]\\n문제는 두 테이블을  별다른  조건없이  union 했다 .\\n두 테이블은  게임이용내역 , 이용일자와  커뮤니티이용내역 , 이용일자로  구분된것  같\\n다.\\nA테이블 관계  B 테이블  이렇게  있으면  1 개  이상 , 선택사양 o : 1 ( 관계 ) 1 : 1 개 \\n이상, 선택사양 o 였다 .\\n* 레프트아우터조인 , 라이트아우터조인 , 풀아우터조인  union, union all, 정\\n렬, distinct, nvl 등  보기의  sql 문이  매우  복잡\\n■ 문제  35 .  올바르지  않은  것을  고르는  문제\\n4번  일반  집합연산은  ORDER BY 구문으로  사용할  수  없다 .\\n■ 문제  36 .  사원  없는  부서  출력\\n정답 : LEFT OUTER JOIN\\n■ 문제  37 .\\xa0 아래와  같은  결과를  내는  SQL 문으로  옳은  것은 ?\\n[EMP]\\n부서코드   상위부서코드\\n-----------------\\n1        NULL\\n2        NULL\\n4        1\\n5        1\\n7        2\\n8        3\\n11       7\\n[RESULT]\\n부서코드   상위부서코드\\n-----------------\\n11       7\\n7        2\\n2        NULL'),\n",
       " Document(metadata={'source': './test.pdf', 'page': 11}, page_content='50회  기출문제\\n121)\\nSELECT * FROM EMP\\nSTART WITH 부서코드 =2\\nCONNECT BY 상위부서코드  = PRIOR 부서코드 ;\\n2)\\nSELECT * FROM EMP\\nSTART WITH 부서코드 =2\\nCONNECT BY PRIOR 상위부서코드  = 부서코드 ;\\n3)\\nSELECT * FROM EMP\\nSTART WITH 부서코드 =11\\nCONNECT BY 상위부서코드  = PRIOR 부서코드 ;\\n4)\\nSELECT * FROM EMP\\nSTART WITH 부서코드 =11\\nCONNECT BY PRIOR 상위부서코드  = 부서코드 ;\\n정답 : 4번\\n■ 문제  38 .\\xa0 아래의  영화  데이터베이스  테이블의  일부에서  밑줄  친  속성들은  테이블의  기본키이며  \\n출연료가  8888 이상인  영화명 ,  배우명 ,  출연료를  구하는  SQL 로  가장  적절한  것은 ?\\xa0 (노랭이  2 과\\n목  62번 )\\n배우 (\\n        배우번호\\n      , 배우명\\n      , 성별\\n     )\\n영화 (\\n        영화번호\\n      , 영화명\\n      , 제작년도\\n     )\\n출연 ('),\n",
       " Document(metadata={'source': './test.pdf', 'page': 12}, page_content='50회  기출문제\\n13        배우번호\\n      , 영화번호\\n      , 출연료\\n     )\\n1) SELECT 출연 . 영화명 , 영화 . 배우명 , 출연 . 출연료\\n     FROM 배우 , 영화 , 출연\\n    WHERE 출연료  >= 8888\\n      AND 출연. 영화번호  = 영화 . 영화번호\\n      AND 출연. 배우번호  = 배우 . 배우번호 ;\\n2) SELECT 영화 . 영화명 , 배우 . 배우명 , 출연료\\n     FROM 배우 , 영화 , 출연\\n    WHERE 출연료  > 8888\\n      AND 출연. 영화번호  = 영화 . 영화번호\\n      AND 영화. 영화번호  = 배우 . 배우번호 ;\\n3) SELECT 영화명 , 배우명 , 출연료\\n     FROM 배우 , 영화 , 출연\\n    WHERE 출연료  >= 8888\\n      AND 영화번호  = 영화 . 영화번호\\n      AND 배우번호  = 배우 . 배우번호 ;\\n4) SELECT 영화 . 영화명 , 배우 . 배우명 , 출연료\\n     FROM 배우 , 영화 , 출연\\n    WHERE 출연료  >= 8888\\n      AND 출연. 영화번호  = 영화 . 영화번호\\n      AND 출연. 배우번호  = 배우 . 배우번호 ;\\n정답 : 4번\\n해설 :\\n영화명과  배우명은  출연  테이블이  아니라 \\xa0영화와  배우  테이블에서  가지고  와야  하는  속성이므\\n로\\n출연테이블의  영화번호와  영화테이블의  영화번호  및  출연테이블의  배우번호와  배우테이블의  \\n배우번호를  조인하는  SQL 문을  작성해야  함 .\\n출연료는  출연  테이블에만  있는  컬럼이기  때문에  출연료로만  해도  ok. 출연 . 출연료로  \\n해도  ok\\n옵티마이저는  쿼리  구문을  분석함'),\n",
       " Document(metadata={'source': './test.pdf', 'page': 13}, page_content=\"50회  기출문제\\n141. 테이블명 . 컬럼명  하면\\n해당  컬럼이  그  테이블에  있는게  맞는지  확인합니다 . 있으면  정상  없으면  오류\\n2. 컬럼명  만  하면  어떤  테이블의  컬럼명인지를  확인\\n하나의  테이블에만  속한  컬럼이  확인되면  정상\\n두개  이상의  테이블에  속한  컬럼이라고  확인되면  오류\\n어떤  테이블에도  속하지  않은  컬럼이라고  확인되면  오류\\n■ 문제  39 .  실행결과  문제\\n       급여\\n------------\\n101   30000\\n102   35000\\n103   4000\\n104   35000\\n105   4000\\n[SQL]\\nCOUNT (DISTINCT 급여 )\\n정답 :\\n■ 문제  40 .\\xa0 두번째  글자가  s,  총  길이가  4 글자  이상인  문자열을  찾을  때 ,  올바르지  않은  것  ?\\n1\\ue082 %S_ _\\n2\\ue082 _S%_ _\\n3\\ue082 _S_%_\\n4\\ue082 _S_ _ %\\n■ 문제  4 1.\\xa0 뷰  + SELECT 문제\\nc2 >= 200 and c1='B'\\n정답 : \\xa0200\"),\n",
       " Document(metadata={'source': './test.pdf', 'page': 14}, page_content='50회  기출문제\\n15■ 문제  42.\\xa0 다음  중  결과  값이  다른  질의어는 ? \\n1\\ue082 SELECT * FROM T1 NA TURAL JOIN T2\\n2\\ue082 SELECT * FROM T1 JOIN T2 USING\\ue081COL\\ue082\\n3\\ue082 SELECT * FROM T1 INNER JOIN T2 ON T1. COL \\ue09b T2. COL\\n4\\ue082 SELECT * FROM T2 WHERE T2. COL IN \\ue081SELECT COL FROM T1 WHERE T2. COL  \\n= T1. COL\\ue082\\n■ 문제  43 . \\xa0SUM / COUNT 문제\\n회원번호 회원코드   물건     금액\\n-----------------------------\\n1001      A        1      100\\n1001      B        1      200\\n2102      A        1      NULL\\n2102      B        NULL   300\\n1\\ue082 200\\n2\\ue082 150\\n3\\ue082 300\\n4\\ue082 NULL\\n정답 :\\n■ 문제  44 .\\xa0 코드를  실행하고  나온  최댓값  구하시오 .\\n1 삽입\\n2 삽입\\n세이브포인트  SV1\\n값이 1인걸  4 로  업데이트\\n세이브포인트  SV1\\n위의 두 값  중  하나  삭제\\nROLLBACK SV1\\n3 삽입\\nCOMMIT\\n정답 : 답이  4'),\n",
       " Document(metadata={'source': './test.pdf', 'page': 15}, page_content='50회  기출문제\\n16■\\xa0단답형  2.  순위가  1234567 이런식인  문제\\n정답 : r o w_ number\\n■ \\xa0단답형  3 .\\xa0r ound(3 .45 ,  1\\ue082\\n정답 : 3 . 5\\n■\\xa0단답형  4 .\\ntable1, table2\\n위와 같은 형식인  JOIN\\n정답 : cr oss join\\n■\\xa0단답형  5 .\\xa0LA G 함수  문제  → 정답 :\\xa0ㄱ .2,  ㄴ . 7 00\\n■\\xa0단답형  6 . \\xa0정의에서  설명하는  것  → 정답 : ROLLBA CK')]"
      ]
     },
     "execution_count": 8,
     "metadata": {},
     "output_type": "execute_result"
    }
   ],
   "source": [
    "# 문서를 async 방식으로 로드\n",
    "adocs = loader.aload()\n",
    "\n",
    "await adocs"
   ]
  },
  {
   "cell_type": "code",
   "execution_count": null,
   "id": "7124b781",
   "metadata": {},
   "outputs": [],
   "source": []
  }
 ],
 "metadata": {
  "kernelspec": {
   "display_name": "base",
   "language": "python",
   "name": "python3"
  },
  "language_info": {
   "codemirror_mode": {
    "name": "ipython",
    "version": 3
   },
   "file_extension": ".py",
   "mimetype": "text/x-python",
   "name": "python",
   "nbconvert_exporter": "python",
   "pygments_lexer": "ipython3",
   "version": "3.12.4"
  }
 },
 "nbformat": 4,
 "nbformat_minor": 5
}
