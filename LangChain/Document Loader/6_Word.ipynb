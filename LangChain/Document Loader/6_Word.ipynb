{
 "cells": [
  {
   "cell_type": "markdown",
   "id": "c9c84dfc",
   "metadata": {},
   "source": [
    "Word"
   ]
  },
  {
   "cell_type": "markdown",
   "id": "5d7e746f",
   "metadata": {},
   "source": [
    "Docx2txtLoader"
   ]
  },
  {
   "cell_type": "code",
   "execution_count": null,
   "id": "de760e77",
   "metadata": {},
   "outputs": [],
   "source": [
    "from langchain_community.document_loaders import Docx2txtLoader\n",
    "\n",
    "loader = Docx2txtLoader(\"./~.docx\")  # 문서 로더 초기화\n",
    "\n",
    "docs = loader.load()  # 문서 로딩\n",
    "\n",
    "print(len(docs))\n"
   ]
  },
  {
   "cell_type": "markdown",
   "id": "9345f8cc",
   "metadata": {},
   "source": [
    "UnstructuredWordDocumentLoader"
   ]
  },
  {
   "cell_type": "code",
   "execution_count": null,
   "id": "edac6aed",
   "metadata": {},
   "outputs": [],
   "source": [
    "from langchain_community.document_loaders import UnstructuredWordDocumentLoader\n",
    "\n",
    "# 비구조화된 워드 문서 로더 인스턴스화\n",
    "loader = UnstructuredWordDocumentLoader(\"./~.docx\")\n",
    "\n",
    "# 문서 로드\n",
    "docs = loader.load()\n",
    "\n",
    "print(len(docs))\n",
    "\n",
    "print(docs[0].metadata)"
   ]
  },
  {
   "cell_type": "code",
   "execution_count": null,
   "id": "1bedb932",
   "metadata": {},
   "outputs": [],
   "source": [
    "# UnstructuredWordDocumentLoader\n",
    "loader = UnstructuredWordDocumentLoader(\n",
    "    \"./data/sample-word-document.docx\", mode=\"elements\"\n",
    ")\n",
    "\n",
    "# 데이터 로드\n",
    "docs = loader.load()\n",
    "\n",
    "# 로드한 문서의 개수 출력\n",
    "print(len(docs))\n"
   ]
  },
  {
   "cell_type": "code",
   "execution_count": null,
   "id": "ea3ed1dd",
   "metadata": {},
   "outputs": [],
   "source": [
    "# 첫번째 문서의 내용 출력\n",
    "print(docs[0].page_content)\n"
   ]
  },
  {
   "cell_type": "code",
   "execution_count": null,
   "id": "868bbd13",
   "metadata": {},
   "outputs": [],
   "source": [
    "# 첫번째 문서의 내용 출력\n",
    "docs[0].metadata\n"
   ]
  }
 ],
 "metadata": {
  "kernelspec": {
   "display_name": "Python 3",
   "language": "python",
   "name": "python3"
  },
  "language_info": {
   "codemirror_mode": {
    "name": "ipython",
    "version": 3
   },
   "file_extension": ".py",
   "mimetype": "text/x-python",
   "name": "python",
   "nbconvert_exporter": "python",
   "pygments_lexer": "ipython3",
   "version": "3.11.5"
  }
 },
 "nbformat": 4,
 "nbformat_minor": 5
}
